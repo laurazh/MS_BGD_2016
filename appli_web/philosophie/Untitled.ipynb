{
 "cells": [
  {
   "cell_type": "code",
   "execution_count": 29,
   "metadata": {
    "collapsed": false,
    "deletable": true,
    "editable": true
   },
   "outputs": [
    {
     "name": "stdout",
     "output_type": "stream",
     "text": [
      "Ça fonctionne !\n"
     ]
    }
   ],
   "source": [
    "#!/usr/bin/python3\n",
    "# -*- coding: utf-8 -*-\n",
    "\n",
    "# Ne pas se soucier de ces imports\n",
    "import setpath\n",
    "from bs4 import BeautifulSoup\n",
    "from json import loads\n",
    "from urllib.request import urlopen\n",
    "from urllib.parse import urlencode\n",
    "from pprint import pprint\n",
    "\n",
    "# Si vous écrivez des fonctions en plus, faites-le ici\n",
    "\n",
    "cache ={}\n",
    "\n",
    "\n",
    "def getJSON(page):\n",
    "    \"\"\"\n",
    "    page => page dans wiki\n",
    "    \"\"\"\n",
    "    params = urlencode({\n",
    "      'format': 'json',  # TODO: compléter ceci\n",
    "      'action': 'parse',  # TODO: compléter ceci\n",
    "      'prop': 'text',  # TODO: compléter ceci\n",
    "      'redirects' : True,\n",
    "      'page':  page})\n",
    "#     API = \"https://fr.wikipedia.org/w/api.php\"  # TODO: changer ceci\n",
    "    API = \"https://fr.wikipedia.org/w/api.php\"  # TODO: changer ceci\n",
    "    response = urlopen(API + \"?\" + params)\n",
    "\n",
    "    return response.read().decode('utf-8')\n",
    "  \n",
    "def getRawPage(page):\n",
    "    parsed = loads(getJSON(page))\n",
    "    try:\n",
    "        title = parsed['parse']['title']   # TODO: remplacer ceci\n",
    "        content = parsed['parse']['text']['*'] # TODO: remplacer ceci\n",
    "        return title, str(content)\n",
    "    except KeyError:\n",
    "        # La page demandée n'existe pas\n",
    "        return None, None\n",
    "\n",
    "\n",
    "from urllib.parse import urldefrag\n",
    "from urllib.parse import unquote\n",
    "from collections import OrderedDict\n",
    "def getPage(page):\n",
    "    \"\"\"\n",
    "    récupère le titre et le contenu HTML de la\n",
    "    page avec la fonction getRawPage\n",
    "    \"\"\"\n",
    "    global cache\n",
    "    if(page in cache):\n",
    "        return page, cache[page]\n",
    "    else:\n",
    "        try: \n",
    "#             parsed = loads(getJSON(page))\n",
    "    #         redirect_title= parsed['parse']['redirects'][0]['to']  \n",
    "            title_tmp, content_tmp = getRawPage(page) \n",
    "            soup = BeautifulSoup(content_tmp, 'html.parser')\n",
    "            liste_href=[] \n",
    "\n",
    "            for link in soup.find_all('p', recursive = False):\n",
    "                for i in link.find_all('a'):\n",
    "                    liste_href.append(i.get('href'))\n",
    "\n",
    "            # retire les lien externe\n",
    "            for i in liste_href:\n",
    "                if(\"/wiki/\" not in i): \n",
    "                    liste_href.remove(i)\n",
    "                if(\"Aide:Référence\" in unquote(i)): \n",
    "                    liste_href.remove(i)\n",
    "\n",
    "            # retire les wiki du debut\n",
    "            liste_href2=[]\n",
    "            for i in liste_href:  \n",
    "                liste_href2.append( urldefrag(unquote(i[6:]))[0].replace('_',' '))\n",
    "    #         global cache\n",
    "#             cache[title_tmp] = list(OrderedDict.fromkeys( liste_href2[:10]))\n",
    "\n",
    "            return title_tmp,list(OrderedDict.fromkeys( liste_href2[:10]))\n",
    "\n",
    "        except KeyError:\n",
    "            return None, []\n",
    "    \n",
    "\n",
    "if __name__ == '__main__':\n",
    "    # Ce code est exécuté lorsque l'on exécute le fichier\n",
    "    print(\"Ça fonctionne !\")\n",
    "    \n",
    "    # Voici des idées pour tester vos fonctions :\n",
    "    # print(getJSON(\"Utilisateur:A3nm/INF344\"))\n",
    "    # print(getRawPage(\"Utilisateur:A3nm/INF344\"))\n",
    "    # print(getRawPage(\"Histoire\"))"
   ]
  },
  {
   "cell_type": "code",
   "execution_count": 30,
   "metadata": {
    "collapsed": false,
    "deletable": true,
    "editable": true
   },
   "outputs": [
    {
     "name": "stdout",
     "output_type": "stream",
     "text": [
      "Philosophie\n",
      "{}\n"
     ]
    }
   ],
   "source": [
    "title_tmp, content_tmp = getRawPage('philo')\n",
    "print(title_tmp) \n",
    "print(cache)"
   ]
  },
  {
   "cell_type": "code",
   "execution_count": 31,
   "metadata": {
    "collapsed": false,
    "deletable": true,
    "editable": true
   },
   "outputs": [
    {
     "name": "stdout",
     "output_type": "stream",
     "text": [
      "Utilisateur:A3nm/INF344\n",
      "['Philosophie', 'Philosophique', 'René Descartes', 'Utilisateur:A3nm/culdesac', 'Geoffrey Miller', 'Réussite']\n"
     ]
    }
   ],
   "source": [
    "title_tmp, liste_href   = getPage('Utilisateur:A3nm/INF344')\n",
    "print(title_tmp)\n",
    "print(liste_href)"
   ]
  },
  {
   "cell_type": "code",
   "execution_count": 34,
   "metadata": {
    "collapsed": false
   },
   "outputs": [
    {
     "name": "stdout",
     "output_type": "stream",
     "text": [
      "Geoffrey Miller\n",
      "[]\n"
     ]
    }
   ],
   "source": [
    "title_tmp, content_tmp = getPage('Geoffrey Miller') \n",
    "\n",
    "print(title_tmp)\n",
    "print(content_tmp)"
   ]
  },
  {
   "cell_type": "code",
   "execution_count": 49,
   "metadata": {
    "collapsed": false
   },
   "outputs": [
    {
     "name": "stdout",
     "output_type": "stream",
     "text": [
      "Nom propre\n",
      "['Grammaire', 'Nom (grammaire)', 'Étymologie', 'Onomastique', 'Représentation (grammaire)', \"Œuvre d'art\", 'Littérature', 'Syntagme', 'Antonomase']\n"
     ]
    }
   ],
   "source": [
    "title_tmp, liste_href   = getPage('nom propre')\n",
    "\n",
    "print(title_tmp)\n",
    "print(liste_href)"
   ]
  },
  {
   "cell_type": "code",
   "execution_count": 22,
   "metadata": {
    "collapsed": true
   },
   "outputs": [],
   "source": [
    "list_tmp=[]\n",
    "for i in liste_href:  \n",
    "    list_tmp.append(urldefrag(unquote(i[6:]))[0].replace('_',' '))"
   ]
  },
  {
   "cell_type": "code",
   "execution_count": 50,
   "metadata": {
    "collapsed": false
   },
   "outputs": [
    {
     "data": {
      "text/plain": [
       "'kofo ,goer,g og,er'"
      ]
     },
     "execution_count": 50,
     "metadata": {},
     "output_type": "execute_result"
    }
   ],
   "source": [
    "test='kofo_,goer,g_og,er'\n",
    "test.replace('_',' ')"
   ]
  },
  {
   "cell_type": "code",
   "execution_count": 24,
   "metadata": {
    "collapsed": false
   },
   "outputs": [
    {
     "data": {
      "text/plain": [
       "[]"
      ]
     },
     "execution_count": 24,
     "metadata": {},
     "output_type": "execute_result"
    }
   ],
   "source": [
    "list(OrderedDict.fromkeys( list_tmp[:10]))"
   ]
  },
  {
   "cell_type": "code",
   "execution_count": 13,
   "metadata": {
    "collapsed": false
   },
   "outputs": [
    {
     "name": "stdout",
     "output_type": "stream",
     "text": [
      "{'Utilisateur:A3nm/INF344': ['Philosophie', 'Philosophique', 'René Descartes', 'Utilisateur:A3nm/culdesac', 'Geoffrey Miller', 'Réussite']}\n"
     ]
    }
   ],
   "source": [
    "print(cache)"
   ]
  },
  {
   "cell_type": "code",
   "execution_count": 18,
   "metadata": {
    "collapsed": false
   },
   "outputs": [
    {
     "name": "stdout",
     "output_type": "stream",
     "text": [
      "ok\n"
     ]
    }
   ],
   "source": [
    "if ('Geoffrey Miller' in cache):\n",
    "    print('ok')"
   ]
  },
  {
   "cell_type": "code",
   "execution_count": 15,
   "metadata": {
    "collapsed": false
   },
   "outputs": [
    {
     "name": "stdout",
     "output_type": "stream",
     "text": [
      "Geoffrey Miller\n",
      "[]\n"
     ]
    }
   ],
   "source": [
    "title_tmp, liste_href   = getPage('Geoffrey Miller')\n",
    "print(title_tmp)\n",
    "print(liste_href)"
   ]
  },
  {
   "cell_type": "code",
   "execution_count": 16,
   "metadata": {
    "collapsed": false
   },
   "outputs": [
    {
     "name": "stdout",
     "output_type": "stream",
     "text": [
      "{'Geoffrey Miller': [], 'Utilisateur:A3nm/INF344': ['Philosophie', 'Philosophique', 'René Descartes', 'Utilisateur:A3nm/culdesac', 'Geoffrey Miller', 'Réussite']}\n"
     ]
    }
   ],
   "source": [
    "print(cache)"
   ]
  },
  {
   "cell_type": "code",
   "execution_count": 8,
   "metadata": {
    "collapsed": false,
    "deletable": true,
    "editable": true
   },
   "outputs": [
    {
     "data": {
      "text/plain": [
       "[]"
      ]
     },
     "execution_count": 8,
     "metadata": {},
     "output_type": "execute_result"
    }
   ],
   "source": [
    "liste_href "
   ]
  },
  {
   "cell_type": "code",
   "execution_count": 4,
   "metadata": {
    "collapsed": false
   },
   "outputs": [
    {
     "name": "stdout",
     "output_type": "stream",
     "text": [
      "{'Geoffrey Miller': [], 'Utilisateur:A3nm/INF344': ['Philosophie', 'Philosophique', 'René Descartes', 'Utilisateur:A3nm/culdesac', 'Geoffrey Miller', 'Réussite']}\n"
     ]
    }
   ],
   "source": [
    "title_tmp, liste_href   = getPage('Geoffrey Miller')\n",
    "print(cache)"
   ]
  },
  {
   "cell_type": "code",
   "execution_count": 6,
   "metadata": {
    "collapsed": false
   },
   "outputs": [
    {
     "data": {
      "text/plain": [
       "0"
      ]
     },
     "execution_count": 6,
     "metadata": {},
     "output_type": "execute_result"
    }
   ],
   "source": [
    "len(liste_href)"
   ]
  },
  {
   "cell_type": "code",
   "execution_count": 23,
   "metadata": {
    "collapsed": false
   },
   "outputs": [
    {
     "name": "stdout",
     "output_type": "stream",
     "text": [
      "Philosophie ['Grec ancien', 'Sagesse', 'Antiquité', 'Occident', 'Orient', 'Vérité', 'Méditation', 'Bien (philosophie)', 'Beau', 'Justice']\n"
     ]
    }
   ],
   "source": [
    "title_tmp, liste_href   = getPage('Philosophie')\n",
    "# print(cache)"
   ]
  },
  {
   "cell_type": "code",
   "execution_count": null,
   "metadata": {
    "collapsed": true,
    "deletable": true,
    "editable": true
   },
   "outputs": [],
   "source": [
    " \n",
    "\n",
    "\n",
    "\n",
    "if __name__ == '__main__':\n",
    "    # Ce code est exécuté lorsque l'on exécute le fichier\n",
    "    print(\"Ça fonctionne !\")\n",
    "    \n",
    "    # Voici des idées pour tester vos fonctions :\n",
    "    # print(getJSON(\"Utilisateur:A3nm/INF344\"))\n",
    "    # print(getRawPage(\"Utilisateur:A3nm/INF344\"))\n",
    "    # print(getRawPage(\"Histoire\"))"
   ]
  },
  {
   "cell_type": "code",
   "execution_count": 113,
   "metadata": {
    "collapsed": false,
    "deletable": true,
    "editable": true
   },
   "outputs": [
    {
     "name": "stderr",
     "output_type": "stream",
     "text": [
      " * Running on http://127.0.0.1:5000/ (Press CTRL+C to quit)\n",
      " * Restarting with stat\n"
     ]
    },
    {
     "ename": "SystemExit",
     "evalue": "1",
     "output_type": "error",
     "traceback": [
      "An exception has occurred, use %tb to see the full traceback.\n",
      "\u001b[0;31mSystemExit\u001b[0m\u001b[0;31m:\u001b[0m 1\n"
     ]
    },
    {
     "name": "stderr",
     "output_type": "stream",
     "text": [
      "C:\\Users\\laura\\Anaconda3\\lib\\site-packages\\IPython\\core\\interactiveshell.py:2889: UserWarning: To exit: use 'exit', 'quit', or Ctrl-D.\n",
      "  warn(\"To exit: use 'exit', 'quit', or Ctrl-D.\", stacklevel=1)\n"
     ]
    }
   ],
   "source": [
    "import setpath\n",
    "from flask import Flask, render_template, session, request, redirect, flash\n",
    "from getpage import getPage\n",
    "\n",
    "app = Flask(__name__)\n",
    "\n",
    "app.secret_key = \"TODO: mettre une valeur secrète ici\"\n",
    "\n",
    "\n",
    "@app.route('/', methods=['GET'])\n",
    "def index():\n",
    "    return render_template('index.html', message=\"Bonjour, monde !\")\n",
    "\n",
    "# Si vous définissez de nouvelles routes, faites-le ici\n",
    "\n",
    "if __name__ == '__main__':\n",
    "    app.run(debug=True)"
   ]
  },
  {
   "cell_type": "code",
   "execution_count": null,
   "metadata": {
    "collapsed": true,
    "deletable": true,
    "editable": true
   },
   "outputs": [],
   "source": []
  }
 ],
 "metadata": {
  "anaconda-cloud": {},
  "kernelspec": {
   "display_name": "Python [conda root]",
   "language": "python",
   "name": "conda-root-py"
  },
  "language_info": {
   "codemirror_mode": {
    "name": "ipython",
    "version": 3
   },
   "file_extension": ".py",
   "mimetype": "text/x-python",
   "name": "python",
   "nbconvert_exporter": "python",
   "pygments_lexer": "ipython3",
   "version": "3.5.2"
  }
 },
 "nbformat": 4,
 "nbformat_minor": 1
}
